{
 "cells": [
  {
   "cell_type": "code",
   "execution_count": null,
   "metadata": {},
   "outputs": [],
   "source": [
    "%load_ext autoreload\n",
    "%autoreload 2\n",
    "\n",
    "import matplotlib.pyplot as plt\n",
    "import seaborn as sns\n",
    "import pandas as pd\n",
    "import numpy as np\n",
    "import sigfig\n",
    "\n",
    "from qPCR_plotting import *\n",
    "import EmmaPlotColors\n",
    "\n",
    "# PICK ONE!\n",
    "normalization_line = 'NF54'\n",
    "#normalization_line = 'KOP230P'\n",
    "# normalization_line = 'KOPfs25'\n",
    "\n",
    "normalization_gene = 'Actin1'\n",
    "\n",
    "if normalization_line == 'KOP230P':\n",
    "    df = pd.read_json('qpcr_df_05_KOP230P.json')\n",
    "elif normalization_line == 'KOPfs25':\n",
    "    df = pd.read_json('qpcr_df_05_KOPfs25.json')\n",
    "else:\n",
    "    df = pd.read_json('qpcr_df_05_NF54.json')\n",
    "\n",
    "output_folder = get_output_folder(experiment='qPCR_all')\n",
    "line_normalization_title = f'Expression fold change to {normalization_line} (normalised to {normalization_gene})'\n",
    "\n",
    "dfq = df.query('gene != @normalization_gene and line != @normalization_line')\n",
    "dfq = dfq.query('gene != \"Pfcyp87\"') # remove this gene from the dataframe\n",
    "print(output_folder)\n",
    "\n",
    "list(df.columns)"
   ]
  },
  {
   "cell_type": "code",
   "execution_count": null,
   "metadata": {},
   "outputs": [],
   "source": [
    "import scipy.stats as stats\n",
    "\n",
    "sig = []\n",
    "for (line, gene), dfg in dfq.groupby(['line', 'gene']):\n",
    "    datapoints = dfg[line_normalization_title]\n",
    "\n",
    "    t_stat, p_value = stats.ttest_1samp(datapoints, popmean=1)\n",
    "    sig.append((line, gene, t_stat, p_value, np.mean(datapoints), np.std(datapoints)))\n",
    "\n",
    "df_sig = pd.DataFrame(sig, columns=['line', 'gene', 't_stat', 'p_value', 'mean', 'std'])\n",
    "df_sig['significant'] = df_sig['p_value'] < 0.05\n",
    "\n",
    "df_sig.query('significant == True')"
   ]
  },
  {
   "cell_type": "code",
   "execution_count": null,
   "metadata": {},
   "outputs": [],
   "source": [
    "log_barplot(\n",
    "    #df=dfq,\n",
    "    df=dfq.query('line != \"KOEBA175\"'),\n",
    "    x_key='gene',\n",
    "    y_key=line_normalization_title,\n",
    "    hue_key='line',\n",
    "    x_order=EmmaPlotColors.gene_order,\n",
    "    hue_order=EmmaPlotColors.line_order,\n",
    "    colors=colors_dark,\n",
    "    title=f\"Gene Expression Fold Change to {normalization_line} ({normalization_gene})\",\n",
    "    ylabel=f\"Fold Change (normalized to {normalization_gene})\",\n",
    "    output_folder=output_folder,\n",
    "    figsize=(10,5),\n",
    ")"
   ]
  },
  {
   "cell_type": "code",
   "execution_count": null,
   "metadata": {},
   "outputs": [],
   "source": [
    "\n",
    "# plot each line\n",
    "list(df.columns)\n",
    "for line, dfg in dfq.groupby('line'):\n",
    "    log_barplot(\n",
    "        df=dfg,\n",
    "        x_key='gene',\n",
    "        y_key=line_normalization_title,\n",
    "        hue_key='line',\n",
    "        x_order=EmmaPlotColors.gene_order,\n",
    "        hue_order=EmmaPlotColors.line_order,\n",
    "        colors=colors_dark,\n",
    "        title=f\"Line {line}, Gene Expression Fold Change to {normalization_line} ({normalization_gene})\",\n",
    "        ylabel=f\"Fold Change (normalized to {normalization_gene})\",\n",
    "        output_folder=output_folder,\n",
    "        figsize=(6,3.5),\n",
    "        font_scale=0.75,\n",
    "    )"
   ]
  },
  {
   "cell_type": "code",
   "execution_count": null,
   "metadata": {},
   "outputs": [],
   "source": [
    "# plot each repeat\n",
    "for sample, dfg in dfq.groupby('sample'):\n",
    "    log_barplot(\n",
    "        df=dfg.query('line != \"KOEBA175\"'),\n",
    "        x_key='gene',\n",
    "        y_key=line_normalization_title,\n",
    "        hue_key='line',\n",
    "        x_order=EmmaPlotColors.gene_order,\n",
    "        hue_order=EmmaPlotColors.line_order,\n",
    "        colors=colors_dark,\n",
    "        title=f\"Sample {sample}, Gene Expression Fold Change to {normalization_line} ({normalization_gene})\",\n",
    "        ylabel=f\"Fold Change (normalized to {normalization_gene})\",\n",
    "        output_folder=output_folder,\n",
    "        figsize=(10,5),\n",
    "    )\n"
   ]
  }
 ],
 "metadata": {
  "kernelspec": {
   "display_name": "Python 3",
   "language": "python",
   "name": "python3"
  },
  "language_info": {
   "codemirror_mode": {
    "name": "ipython",
    "version": 3
   },
   "file_extension": ".py",
   "mimetype": "text/x-python",
   "name": "python",
   "nbconvert_exporter": "python",
   "pygments_lexer": "ipython3",
   "version": "3.9.5"
  }
 },
 "nbformat": 4,
 "nbformat_minor": 2
}
