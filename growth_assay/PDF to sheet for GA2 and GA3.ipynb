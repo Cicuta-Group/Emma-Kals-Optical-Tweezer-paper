{
 "cells": [
  {
   "cell_type": "code",
   "execution_count": 2,
   "metadata": {},
   "outputs": [
    {
     "name": "stdout",
     "output_type": "stream",
     "text": [
      "2023.11.09 GA2 day 11\n",
      "[0.78, 1.629, 0.488, 'N/A', 0.619, 1.045, 1.134, 1.198, 0.409, 0.575, 0.741, 0.637, 0.832, 1.008, 1.221, 0.914, 0.623, 0.654, 0.152, 0.146, 0.769, 1.108, 0.741, 0.996, 0.467, 0.475, 0.476, 0.102, 0.725, 0.865, 0.23, 0.585, 0.704, 0.971, 0.186, 0.297, 0.66, 0.585, 0.554, 0.752, 0.666, 0.574, 0.653, 0.769, 0.537, 0.704, 0.491, 0.626, 0.523, 0.584, 0.67, 0.749, 0.639, 0.654, 0.727, 0.801, 0.494, 0.64, 0.548, 0.963, 0.663, 1.423, 0.807, 1.546, 0.789, 1.148, 0.568, 0.427, 0.437, 0.144, 0.829, 0.628, 0.776, 1.0, 0.433, 0.664, 0.706, 0.504, 0.838, 0.846, 0.231, 4.0, 1.676, 0.0, 1.655, 9.091, 0.0, 0.641, 0.881, 0.627, 0.32, 1.451, 0.645, 0.537, 0.867, 1.056]\n",
      "2023.11.09 GA3 day 11\n",
      "[0.233, 0.426, 0.885, 0.265, 0.856, 0.479, 0.615, 0.282, 0.498, 0.247, 0.686, 0.285, 0.366, 0.36, 0.645, 0.469, 0.36, 0.886, 0.723, 0.799, 0.78, 2.159, 0.872, 0.428, 1.085, 0.594, 0.927, 0.116, 0.959, 0.07, 0.537, 0.407, 0.836, 0.268, 0.733, 0.386, 0.579, 1.291, 0.82, 1.878, 1.457, 0.795, 0.922, 1.01, 0.902, 0.552, 1.302, 1.242, 0.62, 0.704, 0.532, 0.581, 0.539, 1.011, 0.479, 0.086, 0.913, 0.115, 1.132, 0.037, 0.173, 0.078, 0.599, 0.159, 0.597, 0.027, 0.978, 0.882, 0.862, 2.966, 0.476, 0.661, 2.588, 2.357, 0.859, 2.697, 3.352, 3.457, 0.497, 2.927, 0.415, 3.294, 0.759, 3.079, 0.298, 1.635, 0.65, 4.263, 0.566, 2.838, 1.05, 0.852, 0.733, 2.375, 2.187, 5.533]\n",
      "2023.11.10 GA2 day 12\n",
      "[2.867, 2.231, 3.41, 2.96, 2.543, 1.765, 2.924, 3.412, 3.871, 5.592, 7.073, 6.163, 5.247, 3.113, 3.473, 2.862, 5.071, 5.596, 1.479, 1.364, 4.345, 3.516, 2.423, 3.297, 5.127, 6.502, 6.02, 0.774, 4.801, 3.528, 2.049, 1.534, 0.714, 1.883, 0.221, 1.843, 1.502, 1.828, 1.604, 1.577, 1.659, 1.327, 2.914, 1.288, 1.084, 2.062, 1.203, 1.204, 1.59, 1.113, 2.629, 1.214, 1.487, 1.927, 1.351, 1.736, 1.3, 1.276, 2.901, 1.584, 2.443, 2.034, 4.429, 1.988, 1.882, 2.047, 4.932, 3.12, 4.571, 2.509, 5.023, 2.891, 1.652, 5.153, 2.047, 2.486, 1.724, 3.541, 4.268, 4.104, 1.771, 5.495, 5.165, 5.0, 0.0, 5.497, 5.926, 4.281, 6.411, 6.412, 0.288, 1.711, 0.714, 3.471, 4.767, 2.426]\n",
      "2023.11.10 GA3 day 12\n",
      "[1.036, 5.561, 2.778, 4.146, 3.028, 6.987, 3.217, 3.142, 3.412, 7.403, 4.678, 2.06, 1.43, 3.976, 2.492, 4.753, 1.69, 8.147, 2.851, 4.298, 2.494, 3.487, 2.891, 4.03, 1.391, 1.356, 1.26, 1.443, 1.387, 2.028, 1.194, 0.059, 1.662, 0.453, 2.029, 0.022, 0.253, 0.141, 1.313, 0.135, 0.276, 0.033, 3.575, 3.693, 3.59, 7.743, 2.308, 6.567, 3.594, 5.861, 3.207, 1.493, 3.208, 0.709, 2.724, 4.816, 3.422, 3.377, 3.157, 4.995, 2.583, 10.655, 3.275, 13.564, 4.762, 7.946, 3.637, 3.506, 3.16, 2.2, 4.613, 4.304, 5.563, 4.839, 4.226, 4.691, 6.119, 5.725, 2.188, 3.591, 2.044, 4.038, 3.043, 3.98, 1.034, 2.806, 2.555, 7.043, 1.8, 5.369, 6.359, 4.792, 4.576, 3.679, 2.431, 6.627]\n"
     ]
    }
   ],
   "source": [
    "import fitz  # PyMuPDF\n",
    "import os\n",
    "from openpyxl import load_workbook\n",
    "\n",
    "\n",
    "def read_last_page_from_pdf(file_path):\n",
    "    # Open the PDF file\n",
    "    pdf_document = fitz.open(file_path)\n",
    "    # Get the number of pages\n",
    "    number_of_pages = pdf_document.page_count\n",
    "    # Select the last page\n",
    "    page = pdf_document.load_page(number_of_pages - 1)\n",
    "    # Extract text from the last page\n",
    "    page_text = page.get_text()\n",
    "    # Close the document\n",
    "    pdf_document.close()\n",
    "    return page_text\n",
    "\n",
    "def add_column_data_to_sheet(sheet, column_title, entries):\n",
    "    column = sheet.max_column + 1\n",
    "    sheet.cell(column=column, row=column_title_row, value=column_title)\n",
    "    for row, entry in enumerate(entries, start=column_title_row+1):\n",
    "        sheet.cell(column=column, row=row, value=entry)\n",
    "\n",
    "    # for col in sheet.iter_cols(min_row=column_title_row, max_row=column_title_row):\n",
    "    #     for cell in col:\n",
    "    #         if cell.value == column_title:\n",
    "    #             # Once the correct column is found, iterate over the data list\n",
    "    #             # and insert each item into the column, starting on the next row\n",
    "    #             for i, data in enumerate(data_list, start=4):  # Start at row 4 because titles are on row 3\n",
    "    #                 sheet.cell(row=i, column=cell.column).value = data\n",
    "    #             break\n",
    "\n",
    "\n",
    "path = r'C:\\Users\\Emma Jones\\OneDrive - University of Cambridge\\Documents\\My work\\cambridge\\Year 2\\Rayner lab\\Data\\Growth assay\\GA2 and GA3\\New'\n",
    "folders = [f for f in os.listdir(path) if f.startswith('2023')]\n",
    "folders = sorted(folders)\n",
    "\n",
    "wb_ga2 = load_workbook('GA2 parasitimia_2.xlsx')\n",
    "wb_ga3 = load_workbook('GA3 parasitimia_2.xlsx')\n",
    "\n",
    "sheet_ga2 = wb_ga2.active\n",
    "sheet_ga3 = wb_ga3.active\n",
    "\n",
    "column_title_row = 4\n",
    "\n",
    "def to_number(s):\n",
    "    try:\n",
    "        return float(s)\n",
    "    except ValueError:\n",
    "        return s\n",
    "\n",
    "for folder in folders:\n",
    "    print(folder)\n",
    "    \n",
    "    date, experiment, _, day = folder.split(' ')\n",
    "    pdf_path = os.path.join(path, folder)\n",
    "    pdf_files = [f for f in os.listdir(pdf_path) if f.endswith('.pdf')]\n",
    "    \n",
    "    if len(pdf_files) != 1:\n",
    "        print('Not 1 pdf file in folder')\n",
    "        continue\n",
    "\n",
    "    pdf_file = pdf_files[0]\n",
    "    text = read_last_page_from_pdf(os.path.join(pdf_path, pdf_file))\n",
    "    entries = text.split('\\n')[:96]\n",
    "    entries = [to_number(e) for e in entries]\n",
    "    print(entries)\n",
    "\n",
    "\n",
    "    if experiment == 'GA2':\n",
    "        sheet = sheet_ga2\n",
    "    elif experiment == 'GA3':\n",
    "        sheet = sheet_ga3\n",
    "    else:\n",
    "        print('Unknown experiment')\n",
    "        continue\n",
    "\n",
    "    add_column_data_to_sheet(sheet, f'Day {day}', entries)\n",
    "\n",
    "wb_ga2.save('GA2 parasitimia.xlsx')\n",
    "wb_ga3.save('GA3 parasitimia.xlsx')"
   ]
  },
  {
   "cell_type": "code",
   "execution_count": 3,
   "metadata": {},
   "outputs": [
    {
     "name": "stdout",
     "output_type": "stream",
     "text": [
      "Collecting PyMuPDF\n",
      "  Downloading PyMuPDF-1.23.6-cp311-none-win_amd64.whl (3.5 MB)\n",
      "     ---------------------------------------- 3.5/3.5 MB 7.2 MB/s eta 0:00:00\n",
      "Collecting PyMuPDFb==1.23.6\n",
      "  Downloading PyMuPDFb-1.23.6-py3-none-win_amd64.whl (24.5 MB)\n",
      "     ---------------------------------------- 24.5/24.5 MB 8.7 MB/s eta 0:00:00\n",
      "Installing collected packages: PyMuPDFb, PyMuPDF\n",
      "Successfully installed PyMuPDF-1.23.6 PyMuPDFb-1.23.6\n"
     ]
    }
   ],
   "source": [
    "!pip install PyMuPDF"
   ]
  }
 ],
 "metadata": {
  "kernelspec": {
   "display_name": "py311",
   "language": "python",
   "name": "python3"
  },
  "language_info": {
   "codemirror_mode": {
    "name": "ipython",
    "version": 3
   },
   "file_extension": ".py",
   "mimetype": "text/x-python",
   "name": "python",
   "nbconvert_exporter": "python",
   "pygments_lexer": "ipython3",
   "version": "3.11.3"
  }
 },
 "nbformat": 4,
 "nbformat_minor": 2
}
