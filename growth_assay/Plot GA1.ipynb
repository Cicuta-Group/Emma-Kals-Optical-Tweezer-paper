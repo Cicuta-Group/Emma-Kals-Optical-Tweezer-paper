{
 "cells": [
  {
   "cell_type": "code",
   "execution_count": null,
   "metadata": {},
   "outputs": [],
   "source": [
    "%load_ext autoreload\n",
    "%autoreload 2\n",
    "\n",
    "import numpy as np\n",
    "import matplotlib.pyplot as plt\n",
    "import pandas as pd\n",
    "import seaborn as sns\n",
    "import os\n",
    "import sys\n",
    "import natsort\n",
    "import GrowthAssayPlotlib\n",
    "\n",
    "import warnings\n",
    "warnings.filterwarnings(\"ignore\", category=FutureWarning)\n",
    "warnings.filterwarnings(\"ignore\", category=UserWarning)"
   ]
  },
  {
   "cell_type": "code",
   "execution_count": null,
   "metadata": {},
   "outputs": [],
   "source": [
    "ga1_file = 'GA1 parasitemia.xlsx'\n",
    "column_title_row = 3\n",
    "OUTPUT_FOLDER = ''\n",
    "\n",
    "df1 = GrowthAssayPlotlib.load_file(ga1_file, column_title_row)\n",
    "df1_melted_replicas = GrowthAssayPlotlib.melt_df(df1, id_vars=['Plate number', 'Well position', 'Line', 'Clone', 'Strain', 'Speed'])\n",
    "\n",
    "df1_melted_replicas.head()"
   ]
  },
  {
   "cell_type": "code",
   "execution_count": null,
   "metadata": {},
   "outputs": [],
   "source": [
    "# plot all \n",
    "MAX_INVASION_RATE_PLOT = 10\n",
    "output_folder_ga1 = GrowthAssayPlotlib.get_output_folder('GA1', OUTPUT_FOLDER)\n",
    "\n",
    "df1_melted_replicas_filtered = GrowthAssayPlotlib.filter_dataframe(\n",
    "    df=df1_melted_replicas,\n",
    "    ignore_repeats=[\n",
    "        # 'Repeat 1',\n",
    "    ],\n",
    "    filter_list_filename='GA1 filtered',\n",
    ")\n",
    "\n",
    "# group replicas per repeat\n",
    "df1_melted = GrowthAssayPlotlib.group_repeats(\n",
    "    df_melted_replicas_filtered = df1_melted_replicas_filtered,\n",
    "    group_keys=['Line', 'Speed', 'Repeat', 'Strain', 'Clone'],\n",
    ")\n",
    "\n",
    "df1_melted.to_json('GA1_df_melted.json')\n",
    "\n",
    "# GrowthAssayPlotlib.plot_repeats_for_line(df1_melted_replicas_filtered, MAX_INVASION_RATE_PLOT, output_folder_ga1)\n",
    "# GrowthAssayPlotlib.plot_repeats_for_wells(df1_melted_replicas_filtered, MAX_INVASION_RATE_PLOT, output_folder_ga1)\n",
    "# GrowthAssayPlotlib.plot_parasimetia_vs_invasion_rate(df1_melted_replicas, ['Line', 'Speed'], output_folder=output_folder_ga1)\n",
    "# for label, df_plot in [('with replicas', df1_melted_replicas), ('averaged replicas', df1_melted)]:\n",
    "#     GrowthAssayPlotlib.plot_line(df_plot, label, MAX_INVASION_RATE_PLOT, output_folder_ga1)\n",
    "#     GrowthAssayPlotlib.plot_speed(df_plot, label, MAX_INVASION_RATE_PLOT, output_folder_ga1)"
   ]
  },
  {
   "cell_type": "code",
   "execution_count": null,
   "metadata": {},
   "outputs": [],
   "source": [
    "df1_melted_replicas_filtered"
   ]
  },
  {
   "cell_type": "code",
   "execution_count": null,
   "metadata": {},
   "outputs": [],
   "source": [
    "\n",
    "remove_lines = ['KOEBA175', 'Barseq']\n",
    "df1_melted_q = df1_melted_replicas_filtered.query('Strain != @remove_lines')\n",
    "\n",
    "\n",
    "\n",
    "GrowthAssayPlotlib.plot_pretty_barplot(\n",
    "    df=df1_melted_q,\n",
    "    plot_clones=False, # or 'Line' if you want clones to show separatley\n",
    "    output_folder=output_folder_ga1,\n",
    ")\n",
    "GrowthAssayPlotlib.plot_pretty_barplot(\n",
    "    df=df1_melted_q,\n",
    "    plot_clones=True, # or 'Line' if you want clones to show separatley\n",
    "    output_folder=output_folder_ga1,\n",
    ")\n",
    "\n",
    "plt.xticks(rotation=90)\n",
    "\n",
    "clone_list = [\n",
    "    'NF54',\n",
    "    'KOEBA181 C1',\n",
    "    'KORH4 C1',\n",
    "    'KOEBA140 C4', \n",
    "    'KOEBA175 C6',\n",
    "    'KORH2a C3',\n",
    "    'KORH1 C1',\n",
    "    'KOPfs25 C1',\n",
    "    'KOP230P C3',\n",
    "]\n",
    "dfq = df1_melted_q.query('Line == @clone_list')\n",
    "GrowthAssayPlotlib.plot_pretty_barplot(\n",
    "    df=dfq,\n",
    "    plot_clones=True, # or 'Line' if you want clones to show separatley\n",
    "    output_folder=output_folder_ga1,\n",
    "    bar_width=0.4,\n",
    ")\n",
    "\n",
    "plt.gcf().set_size_inches(15,9)\n",
    "plt.xticks(rotation=90)\n",
    "plt.ylim((0,12))\n",
    "\n",
    "plt.rcParams['svg.fonttype'] = 'none'\n",
    "plt.savefig(f'Graphs GA1/clones_separate_fig5.svg', bbox_inches='tight')\n"
   ]
  },
  {
   "cell_type": "code",
   "execution_count": null,
   "metadata": {},
   "outputs": [],
   "source": [
    "GrowthAssayPlotlib.significance_testing(\n",
    "    df=df1_melted, \n",
    "    group_keys=['Line', 'Speed'],\n",
    "    wildtype='KOPfs25 C1'\n",
    ")"
   ]
  },
  {
   "cell_type": "code",
   "execution_count": null,
   "metadata": {},
   "outputs": [],
   "source": [
    "df1_melted"
   ]
  },
  {
   "cell_type": "code",
   "execution_count": null,
   "metadata": {},
   "outputs": [],
   "source": [
    "dfp = df1_melted.groupby(['Line', 'Speed'], as_index=False).agg(\n",
    "    mean=('Invasion rate', 'mean'),\n",
    "    std=('Invasion rate', 'std'),\n",
    "    count=('Invasion rate', 'count'),\n",
    ")\n",
    "dfp['ste'] = dfp['std']/np.sqrt(dfp['count'])\n",
    "dfp"
   ]
  }
 ],
 "metadata": {
  "kernelspec": {
   "display_name": "py311",
   "language": "python",
   "name": "python3"
  },
  "language_info": {
   "codemirror_mode": {
    "name": "ipython",
    "version": 3
   },
   "file_extension": ".py",
   "mimetype": "text/x-python",
   "name": "python",
   "nbconvert_exporter": "python",
   "pygments_lexer": "ipython3",
   "version": "3.11.0"
  }
 },
 "nbformat": 4,
 "nbformat_minor": 2
}
